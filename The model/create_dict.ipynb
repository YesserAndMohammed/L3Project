{
 "cells": [
  {
   "cell_type": "code",
   "execution_count": 119,
   "id": "a71706ba",
   "metadata": {},
   "outputs": [
    {
     "data": {
      "text/html": [
       "<div>\n",
       "<style scoped>\n",
       "    .dataframe tbody tr th:only-of-type {\n",
       "        vertical-align: middle;\n",
       "    }\n",
       "\n",
       "    .dataframe tbody tr th {\n",
       "        vertical-align: top;\n",
       "    }\n",
       "\n",
       "    .dataframe thead th {\n",
       "        text-align: right;\n",
       "    }\n",
       "</style>\n",
       "<table border=\"1\" class=\"dataframe\">\n",
       "  <thead>\n",
       "    <tr style=\"text-align: right;\">\n",
       "      <th></th>\n",
       "      <th>text</th>\n",
       "      <th>label</th>\n",
       "    </tr>\n",
       "  </thead>\n",
       "  <tbody>\n",
       "    <tr>\n",
       "      <th>0</th>\n",
       "      <td>It should be legal for a husband to rape his wife</td>\n",
       "      <td>hate</td>\n",
       "    </tr>\n",
       "    <tr>\n",
       "      <th>1</th>\n",
       "      <td>dalits are lowlife scum</td>\n",
       "      <td>hate</td>\n",
       "    </tr>\n",
       "    <tr>\n",
       "      <th>2</th>\n",
       "      <td>dalits are lowlives</td>\n",
       "      <td>hate</td>\n",
       "    </tr>\n",
       "    <tr>\n",
       "      <th>3</th>\n",
       "      <td>It was a better world when women dare not ques...</td>\n",
       "      <td>hate</td>\n",
       "    </tr>\n",
       "    <tr>\n",
       "      <th>4</th>\n",
       "      <td>I don't work this hard so that those immigrant...</td>\n",
       "      <td>hate</td>\n",
       "    </tr>\n",
       "    <tr>\n",
       "      <th>...</th>\n",
       "      <td>...</td>\n",
       "      <td>...</td>\n",
       "    </tr>\n",
       "    <tr>\n",
       "      <th>40618</th>\n",
       "      <td>we should forcibly remove all the foreigners f...</td>\n",
       "      <td>hate</td>\n",
       "    </tr>\n",
       "    <tr>\n",
       "      <th>40619</th>\n",
       "      <td>we should forcibly remove all the immigrants f...</td>\n",
       "      <td>hate</td>\n",
       "    </tr>\n",
       "    <tr>\n",
       "      <th>40620</th>\n",
       "      <td>dalits are unworthy of the Gods love</td>\n",
       "      <td>hate</td>\n",
       "    </tr>\n",
       "    <tr>\n",
       "      <th>40621</th>\n",
       "      <td>dalits are worthless</td>\n",
       "      <td>hate</td>\n",
       "    </tr>\n",
       "    <tr>\n",
       "      <th>40622</th>\n",
       "      <td>dalits are deserves to be treated as lowlife</td>\n",
       "      <td>hate</td>\n",
       "    </tr>\n",
       "  </tbody>\n",
       "</table>\n",
       "<p>40623 rows × 2 columns</p>\n",
       "</div>"
      ],
      "text/plain": [
       "                                                    text label\n",
       "0      It should be legal for a husband to rape his wife  hate\n",
       "1                                dalits are lowlife scum  hate\n",
       "2                                    dalits are lowlives  hate\n",
       "3      It was a better world when women dare not ques...  hate\n",
       "4      I don't work this hard so that those immigrant...  hate\n",
       "...                                                  ...   ...\n",
       "40618  we should forcibly remove all the foreigners f...  hate\n",
       "40619  we should forcibly remove all the immigrants f...  hate\n",
       "40620               dalits are unworthy of the Gods love  hate\n",
       "40621                               dalits are worthless  hate\n",
       "40622       dalits are deserves to be treated as lowlife  hate\n",
       "\n",
       "[40623 rows x 2 columns]"
      ]
     },
     "execution_count": 119,
     "metadata": {},
     "output_type": "execute_result"
    }
   ],
   "source": [
    "file = pd.read_csv(\"2020-12-31-DynamicallyGeneratedHateDataset-entries-v0.1.csv\",usecols = ['text','label'])\n",
    "file\n"
   ]
  },
  {
   "cell_type": "code",
   "execution_count": null,
   "id": "fa72da76",
   "metadata": {},
   "outputs": [],
   "source": [
    "comment1 = list(file['text'])\n",
    "comment1"
   ]
  },
  {
   "cell_type": "code",
   "execution_count": null,
   "id": "4562b4b1",
   "metadata": {},
   "outputs": [],
   "source": [
    "comment2 = [string.lower() for string in comment1]\n",
    "comment2"
   ]
  },
  {
   "cell_type": "code",
   "execution_count": null,
   "id": "5f67479d",
   "metadata": {},
   "outputs": [],
   "source": [
    "comment1"
   ]
  },
  {
   "cell_type": "code",
   "execution_count": null,
   "id": "3e83d8dd",
   "metadata": {},
   "outputs": [],
   "source": [
    "comment3 = [string.split(\" \") for string in comment2]\n",
    "comment3"
   ]
  },
  {
   "cell_type": "code",
   "execution_count": null,
   "id": "7863ebc0",
   "metadata": {},
   "outputs": [],
   "source": [
    "counter = 3\n",
    "word_index_new = {\n",
    " '<PAD>': 0,\n",
    " '<START>': 1,\n",
    " '<UNK>': 2,\n",
    " '<UNUSED>': 3,\n",
    "}\n",
    "for comment in comment3:\n",
    "    for word in comment:\n",
    "        if word not in word_index_new.keys():\n",
    "            counter += 1\n",
    "            word_index_new[word] = counter"
   ]
  },
  {
   "cell_type": "code",
   "execution_count": 96,
   "id": "f8a20c81",
   "metadata": {},
   "outputs": [],
   "source": [
    "prelabel = list(file['label'])"
   ]
  },
  {
   "cell_type": "code",
   "execution_count": null,
   "id": "cb3baac8",
   "metadata": {},
   "outputs": [],
   "source": [
    "label = []\n",
    "for x in prelabel:\n",
    "    if x == \"hate\":\n",
    "        label.append(1)\n",
    "    else:\n",
    "        label.append(0)"
   ]
  },
  {
   "cell_type": "code",
   "execution_count": 101,
   "id": "6a3fd8a7",
   "metadata": {},
   "outputs": [
    {
     "data": {
      "text/plain": [
       "numpy.ndarray"
      ]
     },
     "execution_count": 101,
     "metadata": {},
     "output_type": "execute_result"
    }
   ],
   "source": [
    "arr = np.array(label)\n",
    "type(arr)"
   ]
  },
  {
   "cell_type": "code",
   "execution_count": null,
   "id": "3b5c9dfc",
   "metadata": {},
   "outputs": [],
   "source": [
    "comments = []\n",
    "for comm in comment3:\n",
    "    comment = []\n",
    "    for word in comm:\n",
    "        comment.append(word_index_new[word])\n",
    "    comments.append(comment)\n",
    "comments"
   ]
  },
  {
   "cell_type": "code",
   "execution_count": 109,
   "id": "c9dbf3ba",
   "metadata": {},
   "outputs": [
    {
     "name": "stdout",
     "output_type": "stream",
     "text": [
      "36564 36564 4059 4059\n"
     ]
    }
   ],
   "source": [
    "xtrain_list = comments[:36564]\n",
    "ytrain_list = label[:36564]\n",
    "xtest_list = comments[36564:]\n",
    "ytest_list = label[36564:]\n",
    "print(len(xtrain_list), len(ytrain_list),len(xtest_list), len(ytest_list))"
   ]
  },
  {
   "cell_type": "code",
   "execution_count": null,
   "id": "ae0f6d45",
   "metadata": {},
   "outputs": [],
   "source": [
    "xtrain = np.array(xtrain_list)\n",
    "ytrain = np.array(ytrain_list)\n",
    "xtest = np.array(xtest_list)\n",
    "ytest = np.array(ytest_list)"
   ]
  },
  {
   "cell_type": "code",
   "execution_count": 114,
   "id": "ba1a0f84",
   "metadata": {},
   "outputs": [
    {
     "data": {
      "text/plain": [
       "numpy.ndarray"
      ]
     },
     "execution_count": 114,
     "metadata": {},
     "output_type": "execute_result"
    }
   ],
   "source": [
    "type(xtrain)"
   ]
  },
  {
   "cell_type": "code",
   "execution_count": 116,
   "id": "55380697",
   "metadata": {},
   "outputs": [],
   "source": [
    "import json\n",
    "with open(\"dictionary.txt\", \"w\") as mydict:\n",
    "    mydict.write(json.dumps(word_index_new))"
   ]
  },
  {
   "cell_type": "code",
   "execution_count": null,
   "id": "721af5a6",
   "metadata": {},
   "outputs": [],
   "source": []
  }
 ],
 "metadata": {
  "kernelspec": {
   "display_name": "Python 3",
   "language": "python",
   "name": "python3"
  },
  "language_info": {
   "codemirror_mode": {
    "name": "ipython",
    "version": 3
   },
   "file_extension": ".py",
   "mimetype": "text/x-python",
   "name": "python",
   "nbconvert_exporter": "python",
   "pygments_lexer": "ipython3",
   "version": "3.8.8"
  }
 },
 "nbformat": 4,
 "nbformat_minor": 5
}
